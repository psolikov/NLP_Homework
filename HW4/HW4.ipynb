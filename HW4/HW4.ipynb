{
 "cells": [
  {
   "cell_type": "code",
   "execution_count": 99,
   "metadata": {},
   "outputs": [
    {
     "name": "stdout",
     "output_type": "stream",
     "text": [
      "Requirement already satisfied: nltk in /usr/local/lib/python3.6/dist-packages (3.4.5)\r\n",
      "Requirement already satisfied: six in /usr/local/lib/python3.6/dist-packages (from nltk) (1.13.0)\r\n"
     ]
    }
   ],
   "source": [
    "!pip install nltk"
   ]
  },
  {
   "cell_type": "code",
   "execution_count": 114,
   "metadata": {},
   "outputs": [],
   "source": [
    "import pandas\n",
    "import torch\n",
    "import numpy as np\n",
    "import pickle\n",
    "import re\n",
    "import nltk\n",
    "from sklearn.model_selection import train_test_split\n",
    "from torch.nn.utils.rnn import pad_sequence\n",
    "from nltk.stem.snowball import SnowballStemmer\n",
    "from collections import defaultdict\n",
    "import torch.nn as nn\n",
    "import torch.nn.functional as F\n",
    "import tqdm\n",
    "import matplotlib.pyplot as plt\n",
    "from scipy.spatial.distance import cosine\n",
    "from sklearn.feature_extraction.text import TfidfVectorizer"
   ]
  },
  {
   "cell_type": "code",
   "execution_count": 101,
   "metadata": {},
   "outputs": [],
   "source": [
    "stemmer = SnowballStemmer(\"russian\")"
   ]
  },
  {
   "cell_type": "code",
   "execution_count": 102,
   "metadata": {},
   "outputs": [],
   "source": [
    "def split_line(line):\n",
    "    return list(filter(lambda x: x != ' ',re.split('(\\W)', line)))"
   ]
  },
  {
   "cell_type": "code",
   "execution_count": 103,
   "metadata": {},
   "outputs": [],
   "source": [
    "DATA_PATH = '../data/'\n",
    "TRAIN_DATA_PATH = 'train_qa.csv'"
   ]
  },
  {
   "cell_type": "code",
   "execution_count": 104,
   "metadata": {},
   "outputs": [
    {
     "data": {
      "text/plain": [
       "True"
      ]
     },
     "execution_count": 104,
     "metadata": {},
     "output_type": "execute_result"
    }
   ],
   "source": [
    "device = torch.device('cuda' if torch.cuda.is_available() else 'cpu')\n",
    "torch.cuda.is_available()"
   ]
  },
  {
   "cell_type": "code",
   "execution_count": 153,
   "metadata": {},
   "outputs": [],
   "source": [
    "train_data = pandas.read_csv(DATA_PATH + TRAIN_DATA_PATH)"
   ]
  },
  {
   "cell_type": "code",
   "execution_count": 154,
   "metadata": {},
   "outputs": [],
   "source": [
    "train_data = train_data[train_data['question_id'] != 61603]"
   ]
  },
  {
   "cell_type": "code",
   "execution_count": 155,
   "metadata": {},
   "outputs": [
    {
     "data": {
      "text/plain": [
       "Index(['paragraph_id', 'question_id', 'paragraph', 'question', 'answer'], dtype='object')"
      ]
     },
     "execution_count": 155,
     "metadata": {},
     "output_type": "execute_result"
    }
   ],
   "source": [
    "train_data.columns"
   ]
  },
  {
   "cell_type": "code",
   "execution_count": 156,
   "metadata": {},
   "outputs": [],
   "source": [
    "train_paragraph_unique = train_data[['paragraph_id', 'paragraph']].drop_duplicates()"
   ]
  },
  {
   "cell_type": "code",
   "execution_count": 175,
   "metadata": {},
   "outputs": [],
   "source": [
    "MAX_DICT = 65000"
   ]
  },
  {
   "cell_type": "code",
   "execution_count": 176,
   "metadata": {},
   "outputs": [
    {
     "ename": "NameError",
     "evalue": "name 'train_paragraph_unique' is not defined",
     "output_type": "error",
     "traceback": [
      "\u001b[0;31m---------------------------------------------------------------------------\u001b[0m",
      "\u001b[0;31mNameError\u001b[0m                                 Traceback (most recent call last)",
      "\u001b[0;32m<ipython-input-176-1ab9622169b7>\u001b[0m in \u001b[0;36m<module>\u001b[0;34m\u001b[0m\n\u001b[1;32m      1\u001b[0m \u001b[0mwords_dict\u001b[0m \u001b[0;34m=\u001b[0m \u001b[0;34m{\u001b[0m\u001b[0;34m}\u001b[0m\u001b[0;34m\u001b[0m\u001b[0;34m\u001b[0m\u001b[0m\n\u001b[0;32m----> 2\u001b[0;31m \u001b[0;32mfor\u001b[0m \u001b[0midp\u001b[0m\u001b[0;34m,\u001b[0m \u001b[0mp\u001b[0m \u001b[0;32min\u001b[0m \u001b[0mtrain_paragraph_unique\u001b[0m\u001b[0;34m.\u001b[0m\u001b[0miterrows\u001b[0m\u001b[0;34m(\u001b[0m\u001b[0;34m)\u001b[0m\u001b[0;34m:\u001b[0m\u001b[0;34m\u001b[0m\u001b[0;34m\u001b[0m\u001b[0m\n\u001b[0m\u001b[1;32m      3\u001b[0m     \u001b[0mtext\u001b[0m \u001b[0;34m=\u001b[0m \u001b[0mp\u001b[0m\u001b[0;34m[\u001b[0m\u001b[0;34m'paragraph'\u001b[0m\u001b[0;34m]\u001b[0m\u001b[0;34m\u001b[0m\u001b[0;34m\u001b[0m\u001b[0m\n\u001b[1;32m      4\u001b[0m     \u001b[0mtext_words\u001b[0m \u001b[0;34m=\u001b[0m \u001b[0msplit_line\u001b[0m\u001b[0;34m(\u001b[0m\u001b[0mtext\u001b[0m\u001b[0;34m)\u001b[0m\u001b[0;34m\u001b[0m\u001b[0;34m\u001b[0m\u001b[0m\n\u001b[1;32m      5\u001b[0m     \u001b[0;32mfor\u001b[0m \u001b[0mword\u001b[0m \u001b[0;32min\u001b[0m \u001b[0mtext_words\u001b[0m\u001b[0;34m:\u001b[0m\u001b[0;34m\u001b[0m\u001b[0;34m\u001b[0m\u001b[0m\n",
      "\u001b[0;31mNameError\u001b[0m: name 'train_paragraph_unique' is not defined"
     ]
    }
   ],
   "source": [
    "words_dict = {}\n",
    "for idp, p in train_paragraph_unique.iterrows():\n",
    "    text = p['paragraph']\n",
    "    text_words = split_line(text)\n",
    "    for word in text_words:\n",
    "        stemmed_word = stemmer.stem(word.lower())\n",
    "        if stemmed_word not in words_dict:\n",
    "            words_dict[stemmed_word] = len(words_dict) + 1"
   ]
  },
  {
   "cell_type": "code",
   "execution_count": null,
   "metadata": {},
   "outputs": [],
   "source": []
  },
  {
   "cell_type": "code",
   "execution_count": 158,
   "metadata": {},
   "outputs": [],
   "source": [
    "train_question_unique = train_data['question'].drop_duplicates()"
   ]
  },
  {
   "cell_type": "code",
   "execution_count": 159,
   "metadata": {},
   "outputs": [],
   "source": [
    "for p in train_question_unique:\n",
    "    text = p\n",
    "    text_words = split_line(text)\n",
    "    for word in text_words:\n",
    "        stemmed_word = stemmer.stem(word.lower())\n",
    "        if stemmed_word not in words_dict:\n",
    "            words_dict[stemmed_word] = len(words_dict) + 1"
   ]
  },
  {
   "cell_type": "code",
   "execution_count": 160,
   "metadata": {},
   "outputs": [],
   "source": [
    "words_dict['<dlmtr>'] = len(words_dict) + 1"
   ]
  },
  {
   "cell_type": "code",
   "execution_count": null,
   "metadata": {},
   "outputs": [],
   "source": []
  },
  {
   "cell_type": "code",
   "execution_count": 8,
   "metadata": {},
   "outputs": [],
   "source": [
    "def prepare_text(text):\n",
    "    text_tokens = [words_dict[stemmer.stem(word.lower())] for word in split_line(text)]\n",
    "    return text_tokens"
   ]
  },
  {
   "cell_type": "code",
   "execution_count": 9,
   "metadata": {},
   "outputs": [],
   "source": [
    "def get_id_and_len(text):\n",
    "    idx = 0\n",
    "    result = []\n",
    "    for word in split_line(text):\n",
    "        word_len = len(word)\n",
    "        result.append([idx, word_len])\n",
    "        idx += word_len\n",
    "    return result"
   ]
  },
  {
   "cell_type": "code",
   "execution_count": 10,
   "metadata": {},
   "outputs": [],
   "source": [
    "def prepare_answer(text):\n",
    "    while text[-1] in '.?!':\n",
    "        text = text[:-1]\n",
    "    while text[0] in '.?!':\n",
    "        text = text[1:]\n",
    "    text = text.lstrip().rstrip()\n",
    "    return text.lower()"
   ]
  },
  {
   "cell_type": "code",
   "execution_count": 105,
   "metadata": {},
   "outputs": [],
   "source": [
    "def find_answer_in_text(text, answer):\n",
    "    text_sent_tokens = nltk.sent_tokenize(text)\n",
    "    prep_answer = prepare_answer(answer)\n",
    "    for sent in text_sent_tokens:\n",
    "        sent = sent.lower()\n",
    "        idx = sent.find(prep_answer)\n",
    "        if idx != -1:\n",
    "            return sent, idx\n",
    "    return -1"
   ]
  },
  {
   "cell_type": "code",
   "execution_count": 165,
   "metadata": {},
   "outputs": [
    {
     "data": {
      "text/plain": [
       "404"
      ]
     },
     "execution_count": 165,
     "metadata": {},
     "output_type": "execute_result"
    }
   ],
   "source": [
    "cnt_no_match = 0\n",
    "no_match_ids = []\n",
    "train_extracted_sent = []\n",
    "for idx, r in train_data.iterrows():\n",
    "    paragraph = r['paragraph']\n",
    "    answer = r['answer']\n",
    "    question = r['question']\n",
    "    find_result = find_answer_in_text(paragraph, answer)\n",
    "    if find_result == -1:\n",
    "        cnt_no_match+=1\n",
    "        no_match_ids.append(idx)\n",
    "        continue\n",
    "    sent, answer_idx = find_result\n",
    "    train_extracted_sent.append([sent, question, answer, answer_idx, len(answer)])\n",
    "    \n",
    "cnt_no_match"
   ]
  },
  {
   "cell_type": "code",
   "execution_count": 166,
   "metadata": {},
   "outputs": [
    {
     "data": {
      "text/plain": [
       "['первые упоминания о строении человеческого тела встречаются в древнем египте.',\n",
       " 'Где встречаются первые упоминания о строении человеческого тела?',\n",
       " 'в Древнем Египте',\n",
       " 60,\n",
       " 16]"
      ]
     },
     "execution_count": 166,
     "metadata": {},
     "output_type": "execute_result"
    }
   ],
   "source": [
    "train_extracted_sent[0]"
   ]
  },
  {
   "cell_type": "code",
   "execution_count": 167,
   "metadata": {},
   "outputs": [
    {
     "data": {
      "text/plain": [
       "'в древнем египте'"
      ]
     },
     "execution_count": 167,
     "metadata": {},
     "output_type": "execute_result"
    }
   ],
   "source": [
    "train_extracted_sent[0][0][60:60+16]"
   ]
  },
  {
   "cell_type": "code",
   "execution_count": 168,
   "metadata": {},
   "outputs": [
    {
     "data": {
      "text/plain": [
       "('первые упоминания о строении человеческого тела встречаются в древнем египте.',\n",
       " 60)"
      ]
     },
     "execution_count": 168,
     "metadata": {},
     "output_type": "execute_result"
    }
   ],
   "source": [
    "find_answer_in_text(train_data['paragraph'][0],train_data['answer'][0])"
   ]
  },
  {
   "cell_type": "code",
   "execution_count": 179,
   "metadata": {},
   "outputs": [],
   "source": [
    "def prepare_sample_for_model(paragraph, question):\n",
    "    paragraph = prepare_text(paragraph)\n",
    "    question = prepare_text(question)\n",
    "    delemiter = [words_dict['<dlmtr>']]\n",
    "    return paragraph + delemiter + question"
   ]
  },
  {
   "cell_type": "code",
   "execution_count": 180,
   "metadata": {},
   "outputs": [
    {
     "ename": "NameError",
     "evalue": "name 'train_extracted_sent' is not defined",
     "output_type": "error",
     "traceback": [
      "\u001b[0;31m---------------------------------------------------------------------------\u001b[0m",
      "\u001b[0;31mNameError\u001b[0m                                 Traceback (most recent call last)",
      "\u001b[0;32m<ipython-input-180-3e14919a38fe>\u001b[0m in \u001b[0;36m<module>\u001b[0;34m\u001b[0m\n\u001b[0;32m----> 1\u001b[0;31m \u001b[0mtrain_extracted_sent\u001b[0m\u001b[0;34m[\u001b[0m\u001b[0;36m0\u001b[0m\u001b[0;34m]\u001b[0m\u001b[0;34m\u001b[0m\u001b[0;34m\u001b[0m\u001b[0m\n\u001b[0m",
      "\u001b[0;31mNameError\u001b[0m: name 'train_extracted_sent' is not defined"
     ]
    }
   ],
   "source": [
    "train_extracted_sent[0]"
   ]
  },
  {
   "cell_type": "code",
   "execution_count": 171,
   "metadata": {},
   "outputs": [],
   "source": [
    "train_data_new = [[prepare_sample_for_model(paragraph, question), idx, idx + answer_len] for \\\n",
    "                  paragraph, question, _, idx, answer_len in train_extracted_sent]"
   ]
  },
  {
   "cell_type": "code",
   "execution_count": 172,
   "metadata": {},
   "outputs": [],
   "source": [
    "words_dict = defaultdict(lambda x: 0, words_dict)"
   ]
  },
  {
   "cell_type": "code",
   "execution_count": 173,
   "metadata": {},
   "outputs": [],
   "source": [
    "train_data_new_X = [torch.tensor(x[0]) for x in train_data_new]\n",
    "train_data_new_y = torch.tensor([[x[1], x[2]] for x in train_data_new])"
   ]
  },
  {
   "cell_type": "code",
   "execution_count": 8,
   "metadata": {},
   "outputs": [],
   "source": [
    "padding_value = len(words_dict) + 1\n",
    "train_data_new_X_padded = pad_sequence(train_data_new_X, batch_first=True, padding_value=padding_value)"
   ]
  },
  {
   "cell_type": "code",
   "execution_count": 9,
   "metadata": {},
   "outputs": [],
   "source": [
    "X_train, X_test, y_train, y_test = train_test_split(train_data_new_X_padded, train_data_new_y, test_size=0.2, random_state=42)"
   ]
  },
  {
   "cell_type": "code",
   "execution_count": 178,
   "metadata": {},
   "outputs": [],
   "source": [
    "def backup_data():\n",
    "    with open(\"train_data_new_X\", 'wb') as f:\n",
    "        pickle.dump(train_data_new_X, f)\n",
    "    with open(\"train_data_new_y\", 'wb') as f:\n",
    "        pickle.dump(train_data_new_y, f)\n",
    "    with open(\"words_dict\", 'wb') as f:\n",
    "        pickle.dump(dict(words_dict), f)\n",
    "        \n",
    "def backup_data2():\n",
    "    with open(\"train\", 'wb') as f:\n",
    "        pickle.dump(train_data_new_X, f)\n",
    "    with open(\"test\", 'wb') as f:\n",
    "        pickle.dump(train_data_new_y, f)\n",
    "    with open(\"words_dict\", 'wb') as f:\n",
    "        pickle.dump(dict(words_dict), f)\n",
    "\n",
    "def load_backup_data():\n",
    "    with open(\"train_data_new_X\", 'rb') as f:\n",
    "        train_data_new_X = pickle.load(f)\n",
    "    with open(\"train_data_new_y\", 'rb') as f:\n",
    "        train_data_new_y = pickle.load(f)\n",
    "    with open(\"words_dict\", 'rb') as f:\n",
    "        words_dict = defaultdict(lambda x: 0, pickle.load(f))\n",
    "    return train_data_new_X, train_data_new_y, words_dict\n",
    "\n",
    "def load_backup_data_2():\n",
    "    with open('train', 'rb') as f:\n",
    "        train_load = pickle.load(f)\n",
    "    with open('test', 'rb') as f:\n",
    "        test_load = pickle.load(f)\n",
    "    with open('words_dict', 'rb') as f:\n",
    "        words_dict = pickle.load(f)\n",
    "    return train_load, test_load, words_dict"
   ]
  },
  {
   "cell_type": "code",
   "execution_count": 161,
   "metadata": {},
   "outputs": [],
   "source": [
    "# backup_data2()\n",
    "train_load, test_load, words_dict = load_backup_data_2()"
   ]
  },
  {
   "cell_type": "code",
   "execution_count": 162,
   "metadata": {},
   "outputs": [],
   "source": [
    "words_dict = defaultdict(lambda x: 0, words_dict)"
   ]
  },
  {
   "cell_type": "code",
   "execution_count": null,
   "metadata": {},
   "outputs": [],
   "source": []
  },
  {
   "cell_type": "code",
   "execution_count": 177,
   "metadata": {},
   "outputs": [],
   "source": [
    "padding_value = MAX_DICT + 1\n",
    "emb_dim = 64\n",
    "num_emb = padding_value + 1\n",
    "num_epochs = 10\n",
    "batch_size = 128\n",
    "weight_decay = 0.0001\n",
    "lr = 0.001\n",
    "num_layers = 1\n",
    "hidden_size = 64"
   ]
  },
  {
   "cell_type": "code",
   "execution_count": 165,
   "metadata": {},
   "outputs": [],
   "source": [
    "class QAModel(nn.Module):\n",
    "    def __init__(self, num_emb, emb_dim, hidden_size, num_layers, out_size=2):\n",
    "        super().__init__()\n",
    "        self.embedding = nn.Embedding(num_emb, emb_dim)\n",
    "        self.lstm = nn.LSTM(emb_dim, hidden_size, num_layers, batch_first=True, bidirectional=True)\n",
    "        self.fc1 = nn.Linear(hidden_size * 2, hidden_size)\n",
    "        self.relu = nn.ReLU()\n",
    "        self.fc2 = nn.Linear(hidden_size, out_size)\n",
    "        self.dropout = nn.Dropout(0.2)\n",
    "        \n",
    "    def forward(self, x):\n",
    "        z = x\n",
    "        z = self.embedding(z)\n",
    "        z, _ = self.lstm(z)\n",
    "        z = self.fc1(z)\n",
    "        z = self.dropout(z)\n",
    "        z = self.relu(z)\n",
    "        z = self.fc2(z)\n",
    "        z = torch.transpose(z, 1, 2)\n",
    "        z = F.log_softmax(z, dim=2)\n",
    "        return z"
   ]
  },
  {
   "cell_type": "code",
   "execution_count": 13,
   "metadata": {},
   "outputs": [
    {
     "data": {
      "text/plain": [
       "torch.Size([508])"
      ]
     },
     "execution_count": 13,
     "metadata": {},
     "output_type": "execute_result"
    }
   ],
   "source": [
    "X_train[1].shape"
   ]
  },
  {
   "cell_type": "code",
   "execution_count": 167,
   "metadata": {},
   "outputs": [],
   "source": [
    "def cat_data_and_label(data, label):\n",
    "    return torch.cat((data, label), dim=1)"
   ]
  },
  {
   "cell_type": "code",
   "execution_count": 168,
   "metadata": {},
   "outputs": [],
   "source": [
    "def train_model(model, train, test, n_epoch): \n",
    "    train_loader = torch.utils.data.DataLoader(train, batch_size=batch_size, shuffle=True)\n",
    "    test_loader = torch.utils.data.DataLoader(test, batch_size=batch_size, shuffle=False)\n",
    "    loss_fn = nn.NLLLoss()\n",
    "    optim = torch.optim.Adam(model.parameters(), lr=lr, weight_decay=weight_decay)\n",
    "    \n",
    "    train_loss = []\n",
    "    test_loss = []\n",
    "    for epoch in tqdm.tqdm_notebook(range(n_epoch)):\n",
    "        train_loss_epoch = []\n",
    "        test_loss_epoch = []\n",
    "        for batch in train_loader:\n",
    "            optim.zero_grad()\n",
    "            data = batch[:, :-2]\n",
    "            y = batch[:,-2:]\n",
    "            data = data.to(device)\n",
    "            y = y.to(device)\n",
    "            output = model(data.long())\n",
    "            y = y.squeeze(1)\n",
    "            start = y[:,0].reshape(-1)\n",
    "            end = y[:,1].reshape(-1)\n",
    "#             print(start.long().shape, end.shape)\n",
    "#             print(output[:,0].shape, output[:,1].shape)\n",
    "#             print(output[:,0].long(), start)\n",
    "#             print(output[:,1].long(), end)\n",
    "            loss_start = loss_fn(output[:,0], start)\n",
    "            loss_end = loss_fn(output[:,1], end)        \n",
    "#             print(torch.max(output),torch.min(output))\n",
    "#             print(torch.max(start),torch.min(start))\n",
    "#             print(torch.max(end),torch.min(end))\n",
    "#             print(output.type())\n",
    "#             print(start.type())\n",
    "#             print(end.float().type())\n",
    "#             print(torch.FloatTensor(end).type())\n",
    "            loss = (loss_start + loss_end) / 2\n",
    "#             print(output.dtype, start.dtype)\n",
    "#             print(loss)\n",
    "            train_loss_epoch.append(loss.item())\n",
    "            loss.backward()\n",
    "            optim.step()\n",
    "        test_loss_epoch = []\n",
    "        train_loss.append(np.mean(train_loss_epoch))\n",
    "        with torch.no_grad():\n",
    "            for batch in test_loader:\n",
    "                optim.zero_grad()\n",
    "                data = batch[:, :-2]\n",
    "                y = batch[:,-2:]\n",
    "                data = data.to(device)\n",
    "                y = y.to(device)\n",
    "                output = model(data.long())\n",
    "                y = y.squeeze(1)\n",
    "                start = y[:,0].reshape(-1)\n",
    "                end = y[:,1].reshape(-1)\n",
    "                loss_start = loss_fn(output[:,0], start)\n",
    "                loss_end = loss_fn(output[:,1], end)        \n",
    "                loss = (loss_start + loss_end) / 2\n",
    "                test_loss_epoch.append(loss.item())\n",
    "            test_loss.append(np.mean(test_loss_epoch))\n",
    "    return train_loss, test_loss"
   ]
  },
  {
   "cell_type": "code",
   "execution_count": 21,
   "metadata": {},
   "outputs": [
    {
     "name": "stdout",
     "output_type": "stream",
     "text": [
      "tensor(59098)\n"
     ]
    }
   ],
   "source": [
    "for x in train_loader:\n",
    "    print(torch.max(x[:,:-2]))\n",
    "    break"
   ]
  },
  {
   "cell_type": "code",
   "execution_count": 169,
   "metadata": {},
   "outputs": [],
   "source": [
    "model = QAModel(num_emb, emb_dim, hidden_size, num_layers)\n",
    "model = model.float()\n",
    "model = model.to(device)"
   ]
  },
  {
   "cell_type": "code",
   "execution_count": 170,
   "metadata": {},
   "outputs": [
    {
     "data": {
      "application/vnd.jupyter.widget-view+json": {
       "model_id": "87890b2b9d134d558ed6a7a3db95cba9",
       "version_major": 2,
       "version_minor": 0
      },
      "text/plain": [
       "HBox(children=(IntProgress(value=0, max=10), HTML(value='')))"
      ]
     },
     "metadata": {},
     "output_type": "display_data"
    },
    {
     "name": "stdout",
     "output_type": "stream",
     "text": [
      "\n"
     ]
    }
   ],
   "source": [
    "train_loss, test_loss = train_model(model, train_load, val_load, 10)"
   ]
  },
  {
   "cell_type": "code",
   "execution_count": 77,
   "metadata": {},
   "outputs": [
    {
     "data": {
      "text/plain": [
       "(10, 10)"
      ]
     },
     "execution_count": 77,
     "metadata": {},
     "output_type": "execute_result"
    }
   ],
   "source": [
    "len(test_loss), len(train_loss)"
   ]
  },
  {
   "cell_type": "code",
   "execution_count": 171,
   "metadata": {},
   "outputs": [
    {
     "data": {
      "image/png": "[encoded data removed]",
      "text/plain": [
       "<Figure size 432x288 with 1 Axes>"
      ]
     },
     "metadata": {
      "needs_background": "light"
     },
     "output_type": "display_data"
    }
   ],
   "source": [
    "plt.plot(train_loss, label='train')\n",
    "plt.plot(test_loss, label='test')\n",
    "plt.legend()\n",
    "plt.show()"
   ]
  },
  {
   "cell_type": "code",
   "execution_count": null,
   "metadata": {},
   "outputs": [],
   "source": []
  },
  {
   "cell_type": "code",
   "execution_count": 172,
   "metadata": {},
   "outputs": [],
   "source": [
    "def get_nearest_sent(text, question):\n",
    "    sent_tokens = nltk.sent_tokenize(text)\n",
    "    minimum = 10000\n",
    "    min_token = None\n",
    "    vect = TfidfVectorizer()\n",
    "    res = vect.fit_transform(sent_tokens + [text])\n",
    "    for idx, token in enumerate(sent_tokens):\n",
    "        dist = cosine(res[idx].todense(), res[q_idx].todense())\n",
    "        if dist < minimum:\n",
    "            minimum = dist\n",
    "            min_token = token\n",
    "    return min_token"
   ]
  },
  {
   "cell_type": "code",
   "execution_count": null,
   "metadata": {},
   "outputs": [],
   "source": []
  },
  {
   "cell_type": "code",
   "execution_count": null,
   "metadata": {},
   "outputs": [],
   "source": []
  },
  {
   "cell_type": "code",
   "execution_count": null,
   "metadata": {},
   "outputs": [],
   "source": []
  },
  {
   "cell_type": "code",
   "execution_count": null,
   "metadata": {},
   "outputs": [],
   "source": []
  },
  {
   "cell_type": "code",
   "execution_count": null,
   "metadata": {},
   "outputs": [],
   "source": []
  },
  {
   "cell_type": "markdown",
   "metadata": {},
   "source": [
    "bad q 61603"
   ]
  },
  {
   "cell_type": "code",
   "execution_count": 110,
   "metadata": {},
   "outputs": [],
   "source": [
    "# bad = 0\n",
    "# for idx, p in train_data.iterrows():\n",
    "#     paragraph = p['paragraph'].lower()\n",
    "#     answer = p['answer']\n",
    "#     answer = prepare_answer(answer)\n",
    "#     if answer not in paragraph:\n",
    "#         print(p['paragraph'], '\\n', p['answer'], '\\n\\n\\n\\n', p['question'])\n",
    "#         print(p['paragraph'] == p['answer'])\n",
    "#         print(p['question_id'])\n",
    "#         bad += 1\n",
    "# print(bad)"
   ]
  },
  {
   "cell_type": "code",
   "execution_count": null,
   "metadata": {},
   "outputs": [],
   "source": []
  },
  {
   "cell_type": "code",
   "execution_count": null,
   "metadata": {},
   "outputs": [],
   "source": []
  },
  {
   "cell_type": "code",
   "execution_count": 111,
   "metadata": {},
   "outputs": [],
   "source": [
    "# def get_index_of_last_token_start(text):\n",
    "#     split_text = split_line(text)\n",
    "#     idx = 0\n",
    "#     for i in range(len(split_text) - 1):\n",
    "#         idx += len(split_text[i])\n",
    "#     return idx"
   ]
  },
  {
   "cell_type": "code",
   "execution_count": 112,
   "metadata": {},
   "outputs": [],
   "source": [
    "# data_answer = []\n",
    "# for idx, p in train_data.iterrows():\n",
    "#     paragraph = p['paragraph'].lower()\n",
    "#     answer = p['answer']\n",
    "#     answer = prepare_answer(answer)\n",
    "#     answer_start = paragraph.index(answer)\n",
    "#     answer_end = answer_start + get_index_of_last_token_start(answer) \n",
    "#     data_answer.append([answer_start, answer_end])"
   ]
  },
  {
   "cell_type": "code",
   "execution_count": 113,
   "metadata": {},
   "outputs": [],
   "source": [
    "# zipped_data = list(zip(data_paragraph, data_question, data_answer))"
   ]
  },
  {
   "cell_type": "code",
   "execution_count": 114,
   "metadata": {},
   "outputs": [],
   "source": [
    "# data_paragraph_id_and_len = [get_id_and_len(text) for text in train_data['paragraph'].to_numpy()]"
   ]
  },
  {
   "cell_type": "code",
   "execution_count": 115,
   "metadata": {},
   "outputs": [],
   "source": [
    "# max_len_text = 0\n",
    "# for idx, p in train_data.iterrows():\n",
    "#     text = p['paragraph']\n",
    "#     max_len_text = max(max_len_text, len(text))"
   ]
  },
  {
   "cell_type": "code",
   "execution_count": 116,
   "metadata": {},
   "outputs": [],
   "source": [
    "# max_len_text"
   ]
  },
  {
   "cell_type": "code",
   "execution_count": 117,
   "metadata": {},
   "outputs": [],
   "source": [
    "# padding_len = max_len_text * 2"
   ]
  },
  {
   "cell_type": "code",
   "execution_count": 118,
   "metadata": {},
   "outputs": [],
   "source": [
    "# len(words_dict)"
   ]
  }
 ],
 "metadata": {
  "kernelspec": {
   "display_name": "Python 3",
   "language": "python",
   "name": "python3"
  },
  "language_info": {
   "codemirror_mode": {
    "name": "ipython",
    "version": 3
   },
   "file_extension": ".py",
   "mimetype": "text/x-python",
   "name": "python",
   "nbconvert_exporter": "python",
   "pygments_lexer": "ipython3",
   "version": "3.6.9"
  }
 },
 "nbformat": 4,
 "nbformat_minor": 2
}
